{
 "cells": [
  {
   "cell_type": "code",
   "execution_count": null,
   "id": "cc0fc887",
   "metadata": {},
   "outputs": [],
   "source": [
    "The basics of market basket analysis\n",
    "Market basket analysis uses lists of transactions to identify useful associations between items. Such associations can be written in the form of a rule that has an antecedent and a consequent. Let's assume a small grocery store has asked you to look at their transaction data. After some analysis, you find the rule given below.\n",
    "\n",
    "{cereal}--- {milk}\n",
    "\n",
    "\n",
    "{cereal} is the antecedent, {milk} is the consequent, and both are items."
   ]
  },
  {
   "cell_type": "code",
   "execution_count": null,
   "id": "f83c47b0",
   "metadata": {},
   "outputs": [],
   "source": [
    "\"\"\"\n",
    "In [1]:\n",
    "groceries.head()\n",
    "Out[1]:\n",
    "\n",
    "                 Transaction\n",
    "0         milk,bread,biscuit\n",
    "1  bread,milk,biscuit,cereal\n",
    "2                  bread,tea\n",
    "3             jam,bread,milk\n",
    "4                tea,biscuit\n",
    "\"\"\""
   ]
  },
  {
   "cell_type": "code",
   "execution_count": null,
   "id": "0e32d0c6",
   "metadata": {},
   "outputs": [],
   "source": [
    "# Import pandas under the alias pd\n",
    "import pandas as pd\n",
    "\n",
    "# Load transactions from pandas\n",
    "groceries = pd.read_csv(groceries_path)\n",
    "\n",
    "# Split transaction strings into lists\n",
    "transactions = groceries['Transaction'].apply(lambda t: t.split(','))\n",
    "\n",
    "# Convert DataFrame column into list of strings\n",
    "transactions = list(transactions)\n",
    "\n",
    "# Print the list of transactions\n",
    "print(transactions)\n",
    "'''\n",
    "[['milk', 'bread', 'biscuit'], ['bread', 'milk', 'biscuit', 'cereal'], ['bread', 'tea'], ['jam', 'bread', 'milk'], ['tea', 'biscuit'], ['bread', 'tea'], ['tea', 'cereal'], ['bread', 'tea', 'biscuit'], ['jam', 'bread', 'tea'], ['bread', 'milk'], ['coffee', 'orange', 'biscuit', 'cereal'], ['coffee', 'orange', 'biscuit', 'cereal'], ['coffee', 'sugar'], ['bread', 'coffee', 'orange'], ['bread', 'sugar', 'biscuit'], ['coffee', 'sugar', 'cereal'], ['bread', 'sugar', 'biscuit'], ['bread', 'coffee', 'sugar'], ['bread', 'coffee', 'sugar'], ['tea', 'milk', 'coffee', 'cereal']]\n",
    "'''"
   ]
  },
  {
   "cell_type": "code",
   "execution_count": null,
   "id": "7f7a3e33",
   "metadata": {},
   "outputs": [],
   "source": [
    "# Import permutations from the itertools module\n",
    "from itertools import permutations\n",
    "\n",
    "# Define the set of groceries\n",
    "flattened = [i for t in transactions for i in t]\n",
    "groceries = list(set(flattened))\n",
    "\n",
    "# Generate all possible rules\n",
    "rules = list(permutations(groceries, 2))\n",
    "\n",
    "# Print the set of rules\n",
    "print(rules)\n",
    "\n",
    "# Print the number of rules\n",
    "print(len(rules))\n",
    "\n",
    "\n",
    "\"\"\"\n",
    "[('cereal', 'biscuit'), ('cereal', 'milk'), ('cereal', 'orange'), ('cereal', 'coffee'), ('cereal', 'bread'), ('cereal', 'jam'), ('cereal', 'sugar'), ('cereal', 'tea'), ('biscuit', 'cereal'), ('biscuit', 'milk'), ('biscuit', 'orange'), ('biscuit', 'coffee'), ('biscuit', 'bread'), ('biscuit', 'jam'), ('biscuit', 'sugar'), ('biscuit', 'tea'), ('milk', 'cereal'), ('milk', 'biscuit'), ('milk', 'orange'), ('milk', 'coffee'), ('milk', 'bread'), ('milk', 'jam'), ('milk', 'sugar'), ('milk', 'tea'), ('orange', 'cereal'), ('orange', 'biscuit'), ('orange', 'milk'), ('orange', 'coffee'), ('orange', 'bread'), ('orange', 'jam'), ('orange', 'sugar'), ('orange', 'tea'), ('coffee', 'cereal'), ('coffee', 'biscuit'), ('coffee', 'milk'), ('coffee', 'orange'), ('coffee', 'bread'), ('coffee', 'jam'), ('coffee', 'sugar'), ('coffee', 'tea'), ('bread', 'cereal'), ('bread', 'biscuit'), ('bread', 'milk'), ('bread', 'orange'), ('bread', 'coffee'), ('bread', 'jam'), ('bread', 'sugar'), ('bread', 'tea'), ('jam', 'cereal'), ('jam', 'biscuit'), ('jam', 'milk'), ('jam', 'orange'), ('jam', 'coffee'), ('jam', 'bread'), ('jam', 'sugar'), ('jam', 'tea'), ('sugar', 'cereal'), ('sugar', 'biscuit'), ('sugar', 'milk'), ('sugar', 'orange'), ('sugar', 'coffee'), ('sugar', 'bread'), ('sugar', 'jam'), ('sugar', 'tea'), ('tea', 'cereal'), ('tea', 'biscuit'), ('tea', 'milk'), ('tea', 'orange'), ('tea', 'coffee'), ('tea', 'bread'), ('tea', 'jam'), ('tea', 'sugar')]\n",
    "72\n",
    "\n",
    "\"\"\""
   ]
  },
  {
   "cell_type": "code",
   "execution_count": null,
   "id": "1d87159e",
   "metadata": {},
   "outputs": [],
   "source": []
  },
  {
   "cell_type": "code",
   "execution_count": null,
   "id": "0c425604",
   "metadata": {},
   "outputs": [],
   "source": []
  },
  {
   "cell_type": "code",
   "execution_count": null,
   "id": "7a4bcd0a",
   "metadata": {},
   "outputs": [],
   "source": []
  },
  {
   "cell_type": "code",
   "execution_count": null,
   "id": "8fbe7fcf",
   "metadata": {},
   "outputs": [],
   "source": []
  },
  {
   "cell_type": "code",
   "execution_count": null,
   "id": "a3cdb2a8",
   "metadata": {},
   "outputs": [],
   "source": []
  }
 ],
 "metadata": {
  "kernelspec": {
   "display_name": "Python 3",
   "language": "python",
   "name": "python3"
  },
  "language_info": {
   "codemirror_mode": {
    "name": "ipython",
    "version": 3
   },
   "file_extension": ".py",
   "mimetype": "text/x-python",
   "name": "python",
   "nbconvert_exporter": "python",
   "pygments_lexer": "ipython3",
   "version": "3.8.8"
  }
 },
 "nbformat": 4,
 "nbformat_minor": 5
}
