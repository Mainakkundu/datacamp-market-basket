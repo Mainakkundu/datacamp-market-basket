{
 "cells": [
  {
   "cell_type": "code",
   "execution_count": null,
   "id": "cc0fc887",
   "metadata": {},
   "outputs": [],
   "source": [
    "The basics of market basket analysis\n",
    "Market basket analysis uses lists of transactions to identify useful associations between items. Such associations can be written in the form of a rule that has an antecedent and a consequent. Let's assume a small grocery store has asked you to look at their transaction data. After some analysis, you find the rule given below.\n",
    "\n",
    "{cereal}--- {milk}\n",
    "\n",
    "\n",
    "{cereal} is the antecedent, {milk} is the consequent, and both are items."
   ]
  }
 ],
 "metadata": {
  "kernelspec": {
   "display_name": "Python 3",
   "language": "python",
   "name": "python3"
  },
  "language_info": {
   "codemirror_mode": {
    "name": "ipython",
    "version": 3
   },
   "file_extension": ".py",
   "mimetype": "text/x-python",
   "name": "python",
   "nbconvert_exporter": "python",
   "pygments_lexer": "ipython3",
   "version": "3.8.8"
  }
 },
 "nbformat": 4,
 "nbformat_minor": 5
}
